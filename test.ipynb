{
 "nbformat": 4,
 "nbformat_minor": 2,
 "metadata": {
  "language_info": {
   "name": "python",
   "codemirror_mode": {
    "name": "ipython",
    "version": 3
   },
   "version": "3.7.1-final"
  },
  "orig_nbformat": 2,
  "file_extension": ".py",
  "mimetype": "text/x-python",
  "name": "python",
  "npconvert_exporter": "python",
  "pygments_lexer": "ipython3",
  "version": 3,
  "kernelspec": {
   "name": "python3",
   "display_name": "Python 3"
  }
 },
 "cells": [
  {
   "cell_type": "code",
   "execution_count": 4,
   "metadata": {},
   "outputs": [],
   "source": [
    "import pandas as pd"
   ]
  },
  {
   "cell_type": "code",
   "execution_count": 6,
   "metadata": {},
   "outputs": [],
   "source": [
    "df = pd.read_pickle('tokyo.pkl')"
   ]
  },
  {
   "cell_type": "code",
   "execution_count": 34,
   "metadata": {},
   "outputs": [],
   "source": [
    "ex = pd.ExcelFile('東京23区推移0406.xlsx')\n",
    "input_sheet_name = ex.sheet_names\n",
    "num_sheet = len(input_sheet_name)\n",
    "\n",
    "df_list = []\n",
    "for sheet in input_sheet_name:\n",
    "    df_list.append(ex.parse(sheet, index_col=[0,1]))\n",
    "\n",
    "df = pd.DataFrame()\n",
    "for i in range(num_sheet):\n",
    "    df = pd.concat([df, df_list[i]], axis=1)\n",
    " dlist = []\n",
    "# dlist.append(df.columns[0])\n",
    "# dlist.append(df.columns[1])\n",
    "for d in df.columns:\n",
    "    dlist.append(pd.Timestamp(d-25569, unit='D').strftime('%m/%d'))\n",
    "\n",
    "df.columns = dlist    "
   ]
  },
  {
   "cell_type": "code",
   "execution_count": 30,
   "metadata": {},
   "outputs": [],
   "source": [
    "adr = pd.read_csv('address.csv')"
   ]
  },
  {
   "cell_type": "code",
   "execution_count": 31,
   "metadata": {},
   "outputs": [],
   "source": [
    "adr = adr[['市区町村', 'longitude', 'latitude']]\n",
    "adr = adr.rename(columns={'市区町村':'エリア'})\n",
    "adr = adr.set_index('エリア')"
   ]
  },
  {
   "cell_type": "code",
   "execution_count": 34,
   "metadata": {},
   "outputs": [],
   "source": [
    "adr.to_pickle('adr.pkl')"
   ]
  },
  {
   "cell_type": "code",
   "execution_count": 36,
   "metadata": {},
   "outputs": [
    {
     "output_type": "execute_result",
     "data": {
      "text/plain": "   centroid_lat  centroid_lon    car_hours  peak_hour\n0     45.471549    -73.588684  1772.750000          2\n1     45.543865    -73.562456   986.333333         23\n2     45.487640    -73.642767   354.750000         20\n3     45.522870    -73.595677   560.166667         23\n4     45.453971    -73.738946  2836.666667         19",
      "text/html": "<div>\n<style scoped>\n    .dataframe tbody tr th:only-of-type {\n        vertical-align: middle;\n    }\n\n    .dataframe tbody tr th {\n        vertical-align: top;\n    }\n\n    .dataframe thead th {\n        text-align: right;\n    }\n</style>\n<table border=\"1\" class=\"dataframe\">\n  <thead>\n    <tr style=\"text-align: right;\">\n      <th></th>\n      <th>centroid_lat</th>\n      <th>centroid_lon</th>\n      <th>car_hours</th>\n      <th>peak_hour</th>\n    </tr>\n  </thead>\n  <tbody>\n    <tr>\n      <th>0</th>\n      <td>45.471549</td>\n      <td>-73.588684</td>\n      <td>1772.750000</td>\n      <td>2</td>\n    </tr>\n    <tr>\n      <th>1</th>\n      <td>45.543865</td>\n      <td>-73.562456</td>\n      <td>986.333333</td>\n      <td>23</td>\n    </tr>\n    <tr>\n      <th>2</th>\n      <td>45.487640</td>\n      <td>-73.642767</td>\n      <td>354.750000</td>\n      <td>20</td>\n    </tr>\n    <tr>\n      <th>3</th>\n      <td>45.522870</td>\n      <td>-73.595677</td>\n      <td>560.166667</td>\n      <td>23</td>\n    </tr>\n    <tr>\n      <th>4</th>\n      <td>45.453971</td>\n      <td>-73.738946</td>\n      <td>2836.666667</td>\n      <td>19</td>\n    </tr>\n  </tbody>\n</table>\n</div>"
     },
     "metadata": {},
     "execution_count": 36
    }
   ],
   "source": [
    "import plotly_express as px\n",
    "GPS = px.data.carshare()\n",
    "GPS.head()"
   ]
  },
  {
   "cell_type": "code",
   "execution_count": 7,
   "metadata": {},
   "outputs": [
    {
     "output_type": "execute_result",
     "data": {
      "text/plain": "MultiIndex(levels=[['世田谷区', '中央区', '中野区', '北区', '千代田区', '台東区', '品川区', '墨田区', '大田区', '文京区', '新宿区', '杉並区', '東京23区全体', '板橋区', '江戸川区', '江東区', '渋谷区', '港区', '目黒区', '練馬区', '荒川区', '葛飾区', '豊島区', '足立区'], ['住人', '全体', '来訪者']],\n           labels=[[12, 12, 12, 4, 4, 4, 1, 1, 1, 17, 17, 17, 10, 10, 10, 9, 9, 9, 5, 5, 5, 7, 7, 7, 15, 15, 15, 6, 6, 6, 18, 18, 18, 8, 8, 8, 0, 0, 0, 16, 16, 16, 2, 2, 2, 11, 11, 11, 22, 22, 22, 3, 3, 3, 20, 20, 20, 13, 13, 13, 19, 19, 19, 23, 23, 23, 21, 21, 21, 14, 14, 14], [1, 0, 2, 1, 0, 2, 1, 0, 2, 1, 0, 2, 1, 0, 2, 1, 0, 2, 1, 0, 2, 1, 0, 2, 1, 0, 2, 1, 0, 2, 1, 0, 2, 1, 0, 2, 1, 0, 2, 1, 0, 2, 1, 0, 2, 1, 0, 2, 1, 0, 2, 1, 0, 2, 1, 0, 2, 1, 0, 2, 1, 0, 2, 1, 0, 2, 1, 0, 2, 1, 0, 2]],\n           names=['エリア', '対象分類'])"
     },
     "metadata": {},
     "execution_count": 7
    }
   ],
   "source": [
    "df.index"
   ]
  },
  {
   "cell_type": "code",
   "execution_count": null,
   "metadata": {},
   "outputs": [],
   "source": []
  }
 ]
}